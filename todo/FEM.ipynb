{
 "cells": [
  {
   "cell_type": "code",
   "execution_count": 1,
   "id": "40dc8128-a4f3-4f93-9073-03cc6b561acf",
   "metadata": {},
   "outputs": [],
   "source": [
    "import numpy as np\n",
    "import pandas as pd"
   ]
  },
  {
   "cell_type": "markdown",
   "id": "329b7df6-a6ce-4a67-84d9-6112a3f11d56",
   "metadata": {
    "jp-MarkdownHeadingCollapsed": true
   },
   "source": [
    "## 杆单元"
   ]
  },
  {
   "cell_type": "code",
   "execution_count": 2,
   "id": "83a9d0e7-bc90-4789-9193-90e82cd03307",
   "metadata": {},
   "outputs": [],
   "source": [
    "def ke(E, A, l):\n",
    "    Ke = E * A / l * np.array([[1, -1], [-1, 1]])\n",
    "    return Ke"
   ]
  },
  {
   "cell_type": "code",
   "execution_count": 3,
   "id": "b1c0c623-4ec9-4279-95f3-3230876514d7",
   "metadata": {},
   "outputs": [
    {
     "data": {
      "text/plain": [
       "array([[ 73750., -73750.],\n",
       "       [-73750.,  73750.]])"
      ]
     },
     "execution_count": 3,
     "metadata": {},
     "output_type": "execute_result"
    }
   ],
   "source": [
    "ke(29.5 * 10**4, 100, 400)"
   ]
  },
  {
   "cell_type": "code",
   "execution_count": 5,
   "id": "b37dac42-2b1b-407c-8358-4b3985d691da",
   "metadata": {},
   "outputs": [],
   "source": [
    "def kebar(Ke, alpha):\n",
    "    Te = np.array(\n",
    "        [[np.cos(alpha), np.sin(alpha), 0, 0], [0, 0, np.cos(alpha), np.sin(alpha)]]\n",
    "    )\n",
    "    Ke2 = Te.T @ Ke @ Te\n",
    "    return Ke2"
   ]
  },
  {
   "cell_type": "code",
   "execution_count": 7,
   "id": "8a1373f5-d855-42bb-8615-3357d75d56ce",
   "metadata": {},
   "outputs": [],
   "source": [
    "Ke1 = ke(29.5 * 10**4, 100, 400)"
   ]
  },
  {
   "cell_type": "code",
   "execution_count": 21,
   "id": "ad4292ac-f90a-4c6e-8570-ca4b9765f2a6",
   "metadata": {},
   "outputs": [],
   "source": [
    "Ke1bar = kebar(Ke1, 0)"
   ]
  },
  {
   "cell_type": "code",
   "execution_count": 22,
   "id": "68d70094-721e-425a-b5b2-8505a484caec",
   "metadata": {},
   "outputs": [
    {
     "data": {
      "text/plain": [
       "array([[ 73750.,      0., -73750.,      0.],\n",
       "       [     0.,      0.,      0.,      0.],\n",
       "       [-73750.,      0.,  73750.,      0.],\n",
       "       [     0.,      0.,      0.,      0.]])"
      ]
     },
     "execution_count": 22,
     "metadata": {},
     "output_type": "execute_result"
    }
   ],
   "source": [
    "Ke1bar"
   ]
  },
  {
   "cell_type": "code",
   "execution_count": 10,
   "id": "50cfeb37-888d-465c-ac15-0ab6543ed9c4",
   "metadata": {},
   "outputs": [],
   "source": [
    "Ke2 = ke(29.5 * 10**4, 100, 300)"
   ]
  },
  {
   "cell_type": "code",
   "execution_count": 14,
   "id": "2c41d0be-30f5-42d9-a193-17c491aca6bc",
   "metadata": {},
   "outputs": [
    {
     "data": {
      "text/plain": [
       "array([[ 3.68690947e-28,  6.02118010e-12, -3.68690947e-28,\n",
       "        -6.02118010e-12],\n",
       "       [ 6.02118010e-12,  9.83333333e+04, -6.02118010e-12,\n",
       "        -9.83333333e+04],\n",
       "       [-3.68690947e-28, -6.02118010e-12,  3.68690947e-28,\n",
       "         6.02118010e-12],\n",
       "       [-6.02118010e-12, -9.83333333e+04,  6.02118010e-12,\n",
       "         9.83333333e+04]])"
      ]
     },
     "execution_count": 14,
     "metadata": {},
     "output_type": "execute_result"
    }
   ],
   "source": [
    "Ke2bar = kebar(Ke2, np.pi / 2)\n",
    "Ke2bar"
   ]
  },
  {
   "cell_type": "code",
   "execution_count": 15,
   "id": "915783c4-48ab-4bf0-8696-0b7b94c34809",
   "metadata": {},
   "outputs": [],
   "source": [
    "Ke3 = ke(29.5 * 10**4, 100, 500)"
   ]
  },
  {
   "cell_type": "code",
   "execution_count": 16,
   "id": "1cfd5410-8d4a-4175-adda-4e8aa20c86da",
   "metadata": {},
   "outputs": [
    {
     "data": {
      "text/plain": [
       "array([[ 37760.,  28320., -37760., -28320.],\n",
       "       [ 28320.,  21240., -28320., -21240.],\n",
       "       [-37760., -28320.,  37760.,  28320.],\n",
       "       [-28320., -21240.,  28320.,  21240.]])"
      ]
     },
     "execution_count": 16,
     "metadata": {},
     "output_type": "execute_result"
    }
   ],
   "source": [
    "Ke3bar = kebar(Ke3, np.arccos(400 / 500))\n",
    "Ke3bar"
   ]
  },
  {
   "cell_type": "code",
   "execution_count": 17,
   "id": "364d026a-719e-45ac-a890-464939a5b68b",
   "metadata": {},
   "outputs": [
    {
     "data": {
      "text/plain": [
       "array([[ 73750.,      0., -73750.,      0.],\n",
       "       [     0.,      0.,      0.,      0.],\n",
       "       [-73750.,      0.,  73750.,      0.],\n",
       "       [     0.,      0.,      0.,      0.]])"
      ]
     },
     "execution_count": 17,
     "metadata": {},
     "output_type": "execute_result"
    }
   ],
   "source": [
    "Ke4 = ke(29.5 * 10**4, 100, 400)\n",
    "Ke4bar = kebar(Ke4, 0)\n",
    "Ke4bar"
   ]
  },
  {
   "cell_type": "code",
   "execution_count": 48,
   "id": "36b21e16-24d0-4dcc-847c-f73fd6b94615",
   "metadata": {},
   "outputs": [],
   "source": [
    "def zuzhuang(Ke1bar, Ke2bar, Ke3bar, Ke4bar):\n",
    "    a = pd.DataFrame(\n",
    "        Ke1bar, index=[\"u1\", \"v1\", \"u2\", \"v2\"], columns=[\"u1\", \"v1\", \"u2\", \"v2\"]\n",
    "    )\n",
    "    b = pd.DataFrame(\n",
    "        Ke2bar, index=[\"u3\", \"v3\", \"u2\", \"v2\"], columns=[\"u3\", \"v3\", \"u2\", \"v2\"]\n",
    "    )\n",
    "    c = pd.DataFrame(\n",
    "        Ke3bar, index=[\"u1\", \"v1\", \"u3\", \"v3\"], columns=[\"u1\", \"v1\", \"u3\", \"v3\"]\n",
    "    )\n",
    "    d = pd.DataFrame(\n",
    "        Ke4bar, index=[\"u4\", \"v4\", \"u3\", \"v3\"], columns=[\"u4\", \"v4\", \"u3\", \"v3\"]\n",
    "    )\n",
    "    zong = a.add(b, fill_value=0).add(c, fill_value=0).add(d, fill_value=0)\n",
    "    zongr = zong.replace(np.nan, 0)\n",
    "    return zongr.reindex(\n",
    "        index=[\"u1\", \"v1\", \"u2\", \"v2\", \"u3\", \"v3\", \"u4\", \"v4\"],\n",
    "        columns=[\"u1\", \"v1\", \"u2\", \"v2\", \"u3\", \"v3\", \"u4\", \"v4\"],\n",
    "    )"
   ]
  },
  {
   "cell_type": "code",
   "execution_count": 50,
   "id": "a6698e2b-7ddd-482d-bf44-3334743a7d82",
   "metadata": {},
   "outputs": [],
   "source": [
    "K = zuzhuang(Ke1bar, Ke2bar, Ke3bar, Ke4bar)"
   ]
  },
  {
   "cell_type": "code",
   "execution_count": 53,
   "id": "6f4807dc-3032-4284-b909-3ef361f51596",
   "metadata": {},
   "outputs": [],
   "source": [
    "P = np.array([[0, 0, 2 * 10**4, 0, 0, -2.5 * 10**4, 0, 0]]).T"
   ]
  },
  {
   "cell_type": "code",
   "execution_count": 58,
   "id": "dde0e484-5eb6-4ea3-9c5a-a724cb7077fe",
   "metadata": {},
   "outputs": [
    {
     "data": {
      "text/html": [
       "<div>\n",
       "<style scoped>\n",
       "    .dataframe tbody tr th:only-of-type {\n",
       "        vertical-align: middle;\n",
       "    }\n",
       "\n",
       "    .dataframe tbody tr th {\n",
       "        vertical-align: top;\n",
       "    }\n",
       "\n",
       "    .dataframe thead th {\n",
       "        text-align: right;\n",
       "    }\n",
       "</style>\n",
       "<table border=\"1\" class=\"dataframe\">\n",
       "  <thead>\n",
       "    <tr style=\"text-align: right;\">\n",
       "      <th></th>\n",
       "      <th>u2</th>\n",
       "      <th>u3</th>\n",
       "      <th>v3</th>\n",
       "    </tr>\n",
       "  </thead>\n",
       "  <tbody>\n",
       "    <tr>\n",
       "      <th>u2</th>\n",
       "      <td>7.375000e+04</td>\n",
       "      <td>-3.686909e-28</td>\n",
       "      <td>-6.021180e-12</td>\n",
       "    </tr>\n",
       "    <tr>\n",
       "      <th>u3</th>\n",
       "      <td>-3.686909e-28</td>\n",
       "      <td>1.115100e+05</td>\n",
       "      <td>2.832000e+04</td>\n",
       "    </tr>\n",
       "    <tr>\n",
       "      <th>v3</th>\n",
       "      <td>-6.021180e-12</td>\n",
       "      <td>2.832000e+04</td>\n",
       "      <td>1.195733e+05</td>\n",
       "    </tr>\n",
       "  </tbody>\n",
       "</table>\n",
       "</div>"
      ],
      "text/plain": [
       "              u2            u3            v3\n",
       "u2  7.375000e+04 -3.686909e-28 -6.021180e-12\n",
       "u3 -3.686909e-28  1.115100e+05  2.832000e+04\n",
       "v3 -6.021180e-12  2.832000e+04  1.195733e+05"
      ]
     },
     "execution_count": 58,
     "metadata": {},
     "output_type": "execute_result"
    }
   ],
   "source": [
    "K.iloc[[2, 4, 5], [2, 4, 5]]"
   ]
  },
  {
   "cell_type": "code",
   "execution_count": 61,
   "id": "aaeedeeb-ec56-49b7-afc1-8670d32f7564",
   "metadata": {},
   "outputs": [
    {
     "data": {
      "text/plain": [
       "array([[ 20000.],\n",
       "       [     0.],\n",
       "       [-25000.]])"
      ]
     },
     "execution_count": 61,
     "metadata": {},
     "output_type": "execute_result"
    }
   ],
   "source": [
    "P[[2, 4, 5]]"
   ]
  },
  {
   "cell_type": "code",
   "execution_count": 63,
   "id": "f6fe14f1-1cdf-40a0-99d8-1c8f595c8582",
   "metadata": {},
   "outputs": [
    {
     "data": {
      "text/plain": [
       "array([[ 1.35593220e-05, -1.84504226e-22,  7.26485389e-22],\n",
       "       [-1.84504226e-22,  9.54174513e-06, -2.25988701e-06],\n",
       "       [ 7.26485389e-22, -2.25988701e-06,  8.89830508e-06]])"
      ]
     },
     "execution_count": 63,
     "metadata": {},
     "output_type": "execute_result"
    }
   ],
   "source": [
    "np.linalg.inv(K.iloc[[2, 4, 5], [2, 4, 5]])"
   ]
  },
  {
   "cell_type": "code",
   "execution_count": 64,
   "id": "10431be6-888c-4b8c-b490-84f2a5262499",
   "metadata": {},
   "outputs": [],
   "source": [
    "q = np.linalg.inv(K.iloc[[2, 4, 5], [2, 4, 5]]) @ P[[2, 4, 5]]"
   ]
  },
  {
   "cell_type": "code",
   "execution_count": 65,
   "id": "3cce8569-50da-4dc7-8144-9a8f11566efc",
   "metadata": {},
   "outputs": [
    {
     "data": {
      "text/plain": [
       "array([[ 0.27118644],\n",
       "       [ 0.05649718],\n",
       "       [-0.22245763]])"
      ]
     },
     "execution_count": 65,
     "metadata": {},
     "output_type": "execute_result"
    }
   ],
   "source": [
    "q"
   ]
  },
  {
   "cell_type": "markdown",
   "id": "1a0412e2-873e-4b34-a330-08a8b1724bf6",
   "metadata": {
    "jp-MarkdownHeadingCollapsed": true
   },
   "source": [
    "## 应力计算"
   ]
  },
  {
   "cell_type": "code",
   "execution_count": 17,
   "id": "c195b216-e49d-4e8e-856e-5c5131fb81f0",
   "metadata": {},
   "outputs": [
    {
     "data": {
      "text/plain": [
       "array([[ 1,  0, -4],\n",
       "       [ 0,  3,  0],\n",
       "       [-4,  0,  5]])"
      ]
     },
     "execution_count": 17,
     "metadata": {},
     "output_type": "execute_result"
    }
   ],
   "source": [
    "sigma = np.array([[1, 0, -4], [0, 3, 0], [-4, 0, 5]])\n",
    "sigma"
   ]
  },
  {
   "cell_type": "code",
   "execution_count": 18,
   "id": "30c4b1d9-436f-453c-b6a7-3bbbcb2e4dd2",
   "metadata": {},
   "outputs": [
    {
     "data": {
      "text/plain": [
       "array([[ 0.5       , -0.        , -2.82842712]])"
      ]
     },
     "execution_count": 18,
     "metadata": {},
     "output_type": "execute_result"
    }
   ],
   "source": [
    "ntest = np.array([0.5, -0.5, 1 / np.sqrt(2)])"
   ]
  },
  {
   "cell_type": "code",
   "execution_count": 22,
   "id": "ef03aaf9-220a-4691-a89b-b6f5af82d970",
   "metadata": {},
   "outputs": [],
   "source": [
    "def n_yingli_jisuan(sigma_ij, n):\n",
    "    p = np.dot(sigma_ij, n)\n",
    "    sigma_n = np.dot(p, n)\n",
    "    tau = np.sqrt(np.sum(p**2) - sigma_n)\n",
    "    return sigma_n, tau"
   ]
  },
  {
   "cell_type": "code",
   "execution_count": 23,
   "id": "f34b3433-63c2-4795-845d-448809df27b9",
   "metadata": {},
   "outputs": [
    {
     "data": {
      "text/plain": [
       "(np.float64(0.6715728752538097), np.float64(3.059062663017717))"
      ]
     },
     "execution_count": 23,
     "metadata": {},
     "output_type": "execute_result"
    }
   ],
   "source": [
    "n_yingli_jisuan(sigma, ntest)"
   ]
  },
  {
   "cell_type": "code",
   "execution_count": null,
   "id": "d68384e7-8522-4d10-8e18-fb9ab85fcd7e",
   "metadata": {},
   "outputs": [],
   "source": [
    "def zhuyingli(sigma_ij):\n",
    "    I1 = np.trace(sigma_ij)\n",
    "    I2 ="
   ]
  },
  {
   "cell_type": "markdown",
   "id": "c40bf5b6-1624-4af7-8b07-a8c2d61de496",
   "metadata": {},
   "source": [
    "## 2Dfem"
   ]
  },
  {
   "cell_type": "code",
   "execution_count": 2,
   "id": "cb795324-bad5-456c-b52c-67091d4d7443",
   "metadata": {},
   "outputs": [],
   "source": [
    "def area(x1, y1, x2, y2, x3, y3):\n",
    "    A = 1 / 2 * (x1 * (y2 - y3) + x2 * (y3 - y1) + x3 * (y1 - y2))\n",
    "    return abs(A)"
   ]
  },
  {
   "cell_type": "code",
   "execution_count": 12,
   "id": "841c8be0-aa11-4051-bd27-8a36760351b5",
   "metadata": {},
   "outputs": [
    {
     "data": {
      "text/plain": [
       "2.0"
      ]
     },
     "execution_count": 12,
     "metadata": {},
     "output_type": "execute_result"
    }
   ],
   "source": [
    "area(0, 0, -2, 0, 1, 2)"
   ]
  },
  {
   "cell_type": "code",
   "execution_count": 3,
   "id": "d531ee45-d74b-4641-8283-0e0ebd18ecd6",
   "metadata": {},
   "outputs": [],
   "source": [
    "def triangle2d3node_stiffness(E, NU, t, x1, y1, x2, y2, x3, y3, ID):\n",
    "    \"\"\"\n",
    "    This function calculates the stiffness matrix of an element.\n",
    "\n",
    "    Parameters:\n",
    "    E (float): Elastic modulus\n",
    "    NU (float): Poisson's ratio\n",
    "    t (float): Thickness of the element\n",
    "    x1, y1, xj, yj, xm, ym (float): Coordinates of nodes i, j, and m\n",
    "    ID (int): Property indicator for plane problems (1 for plane stress, 2 for plane strain)\n",
    "\n",
    "    Returns:\n",
    "    k (numpy.ndarray): Stiffness matrix of the element (6x6)\n",
    "    \"\"\"\n",
    "\n",
    "    # Calculate the area of the triangle\n",
    "    A = area(x1, y1, x2, y2, x3, y3)\n",
    "\n",
    "    # Calculate the components of the strain-displacement matrix B\n",
    "    beta1 = y2 - y3\n",
    "    beta2 = y3 - y1\n",
    "    beta3 = y1 - y2\n",
    "    gamma1 = x3 - x2\n",
    "    gamma2 = x1 - x3\n",
    "    gamma3 = x2 - x1\n",
    "\n",
    "    B = np.array(\n",
    "        [\n",
    "            [beta1, 0, beta2, 0, beta3, 0],\n",
    "            [0, gamma1, 0, gamma2, 0, gamma3],\n",
    "            [gamma1, beta1, gamma2, beta2, gamma3, beta3],\n",
    "        ]\n",
    "    ) / (2 * A)\n",
    "\n",
    "    # Material property matrix D based on the problem type\n",
    "    if ID == 1:\n",
    "        D = (E / (1 - NU**2)) * np.array([[1, NU, 0], [NU, 1, 0], [0, 0, (1 - NU) / 2]])\n",
    "    elif ID == 2:\n",
    "        D = (E / ((1 + NU) * (1 - 2 * NU))) * np.array(\n",
    "            [[1 - NU, NU, 0], [NU, 1 - NU, 0], [0, 0, (1 - 2 * NU) / 2]]\n",
    "        )\n",
    "\n",
    "    # Calculate the stiffness matrix k\n",
    "    k = t * A * np.dot(B.T, np.dot(D, B))\n",
    "\n",
    "    return k"
   ]
  },
  {
   "cell_type": "code",
   "execution_count": 4,
   "id": "b288a21b-257f-448d-8f46-eba2ed8ed9e5",
   "metadata": {},
   "outputs": [],
   "source": [
    "E = 1e7\n",
    "NU = 1 / 3\n",
    "t = 0.1\n",
    "ID = 1"
   ]
  },
  {
   "cell_type": "code",
   "execution_count": 5,
   "id": "8626a619-c768-4c2d-8584-5220358d26b8",
   "metadata": {},
   "outputs": [
    {
     "ename": "NameError",
     "evalue": "name 'triangle2d3node_assembly' is not defined",
     "output_type": "error",
     "traceback": [
      "\u001b[0;31m---------------------------------------------------------------------------\u001b[0m",
      "\u001b[0;31mNameError\u001b[0m                                 Traceback (most recent call last)",
      "Cell \u001b[0;32mIn[5], line 6\u001b[0m\n\u001b[1;32m      4\u001b[0m k4 \u001b[38;5;241m=\u001b[39m triangle2d3node_stiffness(E, NU, t, \u001b[38;5;241m2\u001b[39m, \u001b[38;5;241m0\u001b[39m, \u001b[38;5;241m1\u001b[39m, \u001b[38;5;241m0.5\u001b[39m, \u001b[38;5;241m0\u001b[39m, \u001b[38;5;241m0\u001b[39m, ID)\n\u001b[1;32m      5\u001b[0m KK \u001b[38;5;241m=\u001b[39m np\u001b[38;5;241m.\u001b[39mzeros([\u001b[38;5;241m10\u001b[39m, \u001b[38;5;241m10\u001b[39m])\n\u001b[0;32m----> 6\u001b[0m KK \u001b[38;5;241m=\u001b[39m \u001b[43mtriangle2d3node_assembly\u001b[49m(KK, k1, \u001b[38;5;241m1\u001b[39m, \u001b[38;5;241m5\u001b[39m, \u001b[38;5;241m2\u001b[39m)\n\u001b[1;32m      7\u001b[0m KK \u001b[38;5;241m=\u001b[39m triangle2d3node_assembly(KK, k2, \u001b[38;5;241m1\u001b[39m, \u001b[38;5;241m3\u001b[39m, \u001b[38;5;241m5\u001b[39m)\n\u001b[1;32m      8\u001b[0m KK \u001b[38;5;241m=\u001b[39m triangle2d3node_assembly(KK, k3, \u001b[38;5;241m3\u001b[39m, \u001b[38;5;241m4\u001b[39m, \u001b[38;5;241m5\u001b[39m)\n",
      "\u001b[0;31mNameError\u001b[0m: name 'triangle2d3node_assembly' is not defined"
     ]
    }
   ],
   "source": [
    "k1 = triangle2d3node_stiffness(E, NU, t, 2, 1, 1, 0.5, 2, 0, ID)\n",
    "k2 = triangle2d3node_stiffness(E, NU, t, 2, 1, 0, 1, 1, 0.5, ID)\n",
    "k3 = triangle2d3node_stiffness(E, NU, t, 0, 1, 0, 0, 1, 0.5, ID)\n",
    "k4 = triangle2d3node_stiffness(E, NU, t, 2, 0, 1, 0.5, 0, 0, ID)\n",
    "KK = np.zeros([10, 10])\n",
    "KK = triangle2d3node_assembly(KK, k1, 1, 5, 2)\n",
    "KK = triangle2d3node_assembly(KK, k2, 1, 3, 5)\n",
    "KK = triangle2d3node_assembly(KK, k3, 3, 4, 5)\n",
    "KK = triangle2d3node_assembly(KK, k4, 2, 5, 4)\n",
    "with np.printoptions(linewidth=200, suppress=True):\n",
    "    print(KK)"
   ]
  },
  {
   "cell_type": "code",
   "execution_count": 71,
   "id": "e1dd5e6e-0fd0-44e2-b8f6-b663a32d261b",
   "metadata": {},
   "outputs": [
    {
     "name": "stdout",
     "output_type": "stream",
     "text": [
      "[[ 6.56250000e+05  3.75000000e+05 -4.68750000e+04  1.16415322e-11]\n",
      " [ 3.75000000e+05  1.21875000e+06 -1.16415322e-11 -5.15625000e+05]\n",
      " [-4.68750000e+04 -1.16415322e-11  6.56250000e+05 -3.75000000e+05]\n",
      " [ 1.16415322e-11 -5.15625000e+05 -3.75000000e+05  1.21875000e+06]]\n"
     ]
    },
    {
     "data": {
      "text/plain": [
       "array([[ 0.05300207],\n",
       "       [-0.09937888],\n",
       "       [-0.05300207],\n",
       "       [-0.09937888]])"
      ]
     },
     "execution_count": 71,
     "metadata": {},
     "output_type": "execute_result"
    }
   ],
   "source": [
    "k23 = KK[0:4, 0:4]\n",
    "print(k23)\n",
    "p = np.array([[0, -50000, 0, -50000]])\n",
    "u = np.linalg.solve(k23, p.T)\n",
    "u"
   ]
  },
  {
   "cell_type": "code",
   "execution_count": 72,
   "id": "77dc8ffd-edee-4f37-9011-2b292df43abd",
   "metadata": {},
   "outputs": [
    {
     "name": "stdout",
     "output_type": "stream",
     "text": [
      "[[  656250.   375000.  -375000.  -187500.  -281250.  -187500.        0.        0.]\n",
      " [  375000.  1218750.  -187500. -1125000.  -187500.   -93750.        0.        0.]\n",
      " [ -375000.  -187500.   656250.        0.        0.   375000.  -281250.  -187500.]\n",
      " [ -187500. -1125000.        0.  1218750.   375000.        0.  -187500.   -93750.]\n",
      " [ -281250.  -187500.        0.   375000.   656250.        0.  -375000.  -187500.]\n",
      " [ -187500.   -93750.   375000.        0.        0.  1218750.  -187500. -1125000.]\n",
      " [       0.        0.  -281250.  -187500.  -375000.  -187500.   656250.   375000.]\n",
      " [       0.        0.  -187500.   -93750.  -187500. -1125000.   375000.  1218750.]]\n"
     ]
    }
   ],
   "source": [
    "k1 = triangle2d3node_stiffness(E, NU, t, 2, 0, 0, 1, 0, 0, ID)\n",
    "k2 = triangle2d3node_stiffness(E, NU, t, 0, 1, 2, 0, 2, 1, ID)\n",
    "KK = np.zeros([8, 8])\n",
    "KK = triangle2d3node_assembly(KK, k1, 2, 3, 4)\n",
    "KK = triangle2d3node_assembly(KK, k2, 3, 2, 1)\n",
    "with np.printoptions(linewidth=200, suppress=True):\n",
    "    print(KK)"
   ]
  },
  {
   "cell_type": "code",
   "execution_count": 73,
   "id": "8af6eae9-3ca9-4766-9be4-384b0a9e59e9",
   "metadata": {},
   "outputs": [
    {
     "name": "stdout",
     "output_type": "stream",
     "text": [
      "[[  656250.   375000.  -375000.  -187500.]\n",
      " [  375000.  1218750.  -187500. -1125000.]\n",
      " [ -375000.  -187500.   656250.        0.]\n",
      " [ -187500. -1125000.        0.  1218750.]]\n"
     ]
    },
    {
     "data": {
      "text/plain": [
       "array([[ 0.18767632],\n",
       "       [-0.89918337],\n",
       "       [-0.14966592],\n",
       "       [-0.84216778]])"
      ]
     },
     "execution_count": 73,
     "metadata": {},
     "output_type": "execute_result"
    }
   ],
   "source": [
    "k23 = KK[0:4, 0:4]\n",
    "print(k23)\n",
    "p = np.array([[0, -50000, 0, -50000]])\n",
    "u = np.linalg.solve(k23, p.T)\n",
    "u"
   ]
  },
  {
   "cell_type": "code",
   "execution_count": 6,
   "id": "e29dcf3c-5a93-40be-acf1-b48597b4eb90",
   "metadata": {},
   "outputs": [
    {
     "data": {
      "text/plain": [
       "array([[  281250.,        0.,        0.,   187500.,  -281250.,  -187500.],\n",
       "       [       0.,    93750.,   187500.,        0.,  -187500.,   -93750.],\n",
       "       [       0.,   187500.,   375000.,        0.,  -375000.,  -187500.],\n",
       "       [  187500.,        0.,        0.,  1125000.,  -187500., -1125000.],\n",
       "       [ -281250.,  -187500.,  -375000.,  -187500.,   656250.,   375000.],\n",
       "       [ -187500.,   -93750.,  -187500., -1125000.,   375000.,  1218750.]])"
      ]
     },
     "execution_count": 6,
     "metadata": {},
     "output_type": "execute_result"
    }
   ],
   "source": [
    "k1 = triangle2d3node_stiffness(E, NU, t, 2, 0, 0, 1, 0, 0, ID)\n",
    "k1"
   ]
  },
  {
   "cell_type": "code",
   "execution_count": 7,
   "id": "680d528d-682f-4fdf-935f-e391791fcf48",
   "metadata": {},
   "outputs": [
    {
     "data": {
      "text/plain": [
       "array([[  281250.,        0.,        0.,   187500.,  -281250.,  -187500.],\n",
       "       [       0.,    93750.,   187500.,        0.,  -187500.,   -93750.],\n",
       "       [       0.,   187500.,   375000.,        0.,  -375000.,  -187500.],\n",
       "       [  187500.,        0.,        0.,  1125000.,  -187500., -1125000.],\n",
       "       [ -281250.,  -187500.,  -375000.,  -187500.,   656250.,   375000.],\n",
       "       [ -187500.,   -93750.,  -187500., -1125000.,   375000.,  1218750.]])"
      ]
     },
     "execution_count": 7,
     "metadata": {},
     "output_type": "execute_result"
    }
   ],
   "source": [
    "k2 = triangle2d3node_stiffness(E, NU, t, 0, 1, 2, 0, 2, 1, ID)\n",
    "k2"
   ]
  },
  {
   "cell_type": "code",
   "execution_count": 6,
   "id": "a5f64c11-d750-44b4-a0e5-6b132d359ddc",
   "metadata": {},
   "outputs": [],
   "source": [
    "def triangle2d3node_assembly(KK, k, i, j, m):\n",
    "    \"\"\"\n",
    "    该函数将单元刚度矩阵组装到整体刚度矩阵中。\n",
    "\n",
    "    参数:\n",
    "    KK (numpy.ndarray): 整体刚度矩阵\n",
    "    k (numpy.ndarray): 单元刚度矩阵\n",
    "    i, j, m (int): 单元的节点编号\n",
    "\n",
    "    返回:\n",
    "    KK (numpy.ndarray): 更新的整体刚度矩阵\n",
    "    \"\"\"\n",
    "\n",
    "    DOF = [2 * i - 1, 2 * i, 2 * j - 1, 2 * j, 2 * m - 1, 2 * m]\n",
    "\n",
    "    # 将单元刚度矩阵组装到整体刚度矩阵中\n",
    "    for n1 in range(6):\n",
    "        for n2 in range(6):\n",
    "            KK[DOF[n1] - 1, DOF[n2] - 1] += k[n1, n2]\n",
    "\n",
    "    return KK"
   ]
  },
  {
   "cell_type": "code",
   "execution_count": 18,
   "id": "e88eb2fb-5946-4a20-9577-7f8f6f653cbd",
   "metadata": {},
   "outputs": [],
   "source": [
    "KK = np.zeros([8, 8])\n",
    "KK = triangle2d3node_assembly(KK, k1, 2, 3, 4)"
   ]
  },
  {
   "cell_type": "code",
   "execution_count": 19,
   "id": "aabb82b0-b04e-4145-91b9-7a3f276a4932",
   "metadata": {},
   "outputs": [
    {
     "name": "stdout",
     "output_type": "stream",
     "text": [
      "[[       0.        0.        0.        0.        0.        0.        0.        0.]\n",
      " [       0.        0.        0.        0.        0.        0.        0.        0.]\n",
      " [       0.        0.   281250.        0.        0.   187500.  -281250.  -187500.]\n",
      " [       0.        0.        0.    93750.   187500.        0.  -187500.   -93750.]\n",
      " [       0.        0.        0.   187500.   375000.        0.  -375000.  -187500.]\n",
      " [       0.        0.   187500.        0.        0.  1125000.  -187500. -1125000.]\n",
      " [       0.        0.  -281250.  -187500.  -375000.  -187500.   656250.   375000.]\n",
      " [       0.        0.  -187500.   -93750.  -187500. -1125000.   375000.  1218750.]]\n"
     ]
    }
   ],
   "source": [
    "with np.printoptions(linewidth=200, suppress=True):\n",
    "    print(KK)"
   ]
  },
  {
   "cell_type": "code",
   "execution_count": 15,
   "id": "4a4235fd-75eb-4d1f-812d-b4bce892a750",
   "metadata": {},
   "outputs": [],
   "source": [
    "KK = triangle2d3node_assembly(KK, k2, 3, 2, 1)"
   ]
  },
  {
   "cell_type": "code",
   "execution_count": 14,
   "id": "5943bbd3-6741-41e2-aa9c-87dd676ec8ac",
   "metadata": {},
   "outputs": [
    {
     "name": "stdout",
     "output_type": "stream",
     "text": [
      "[[  656250.   375000.  -375000.  -187500.  -281250.  -187500.        0.        0.]\n",
      " [  375000.  1218750.  -187500. -1125000.  -187500.   -93750.        0.        0.]\n",
      " [ -375000.  -187500.   656250.        0.        0.   375000.  -281250.  -187500.]\n",
      " [ -187500. -1125000.        0.  1218750.   375000.        0.  -187500.   -93750.]\n",
      " [ -281250.  -187500.        0.   375000.   656250.        0.  -375000.  -187500.]\n",
      " [ -187500.   -93750.   375000.        0.        0.  1218750.  -187500. -1125000.]\n",
      " [       0.        0.  -281250.  -187500.  -375000.  -187500.   656250.   375000.]\n",
      " [       0.        0.  -187500.   -93750.  -187500. -1125000.   375000.  1218750.]]\n"
     ]
    }
   ],
   "source": [
    "with np.printoptions(linewidth=200, suppress=True):\n",
    "    print(KK)"
   ]
  },
  {
   "cell_type": "code",
   "execution_count": 17,
   "id": "d44cbd73-3494-47bc-9820-1f4c48d40d73",
   "metadata": {},
   "outputs": [
    {
     "data": {
      "text/plain": [
       "array([[  656250.,   375000.,  -375000.,  -187500.],\n",
       "       [  375000.,  1218750.,  -187500., -1125000.],\n",
       "       [ -375000.,  -187500.,   656250.,        0.],\n",
       "       [ -187500., -1125000.,        0.,  1218750.]])"
      ]
     },
     "execution_count": 17,
     "metadata": {},
     "output_type": "execute_result"
    }
   ],
   "source": [
    "K_1414 = KK[0:4, 0:4]\n",
    "K_1414"
   ]
  },
  {
   "cell_type": "code",
   "execution_count": 20,
   "id": "ed49c4a1-c6ec-4414-99ee-67843b6b9701",
   "metadata": {},
   "outputs": [],
   "source": [
    "p = np.array([[0, -50000, 0, -50000]])"
   ]
  },
  {
   "cell_type": "code",
   "execution_count": 22,
   "id": "01a4317d-d8f9-4331-b6b4-d15e9544cbb2",
   "metadata": {},
   "outputs": [
    {
     "data": {
      "text/plain": [
       "array([[ 0.18767632],\n",
       "       [-0.89918337],\n",
       "       [-0.14966592],\n",
       "       [-0.84216778]])"
      ]
     },
     "execution_count": 22,
     "metadata": {},
     "output_type": "execute_result"
    }
   ],
   "source": [
    "u = np.linalg.solve(K_1414, p.T)\n",
    "u"
   ]
  },
  {
   "cell_type": "code",
   "execution_count": 25,
   "id": "7fa5f3ba-8c91-41b9-bbdf-0dd08eb2d886",
   "metadata": {},
   "outputs": [
    {
     "data": {
      "text/plain": [
       "array([[ 0.18767632],\n",
       "       [-0.89918337],\n",
       "       [-0.14966592],\n",
       "       [-0.84216778],\n",
       "       [ 0.        ],\n",
       "       [ 0.        ],\n",
       "       [ 0.        ],\n",
       "       [ 0.        ]])"
      ]
     },
     "execution_count": 25,
     "metadata": {},
     "output_type": "execute_result"
    }
   ],
   "source": [
    "U = np.vstack((u.T, np.zeros(4))).reshape(8, 1)\n",
    "U"
   ]
  },
  {
   "cell_type": "code",
   "execution_count": 26,
   "id": "edcedcd2-5536-4634-9453-df1b777260fe",
   "metadata": {},
   "outputs": [
    {
     "data": {
      "text/plain": [
       "array([[      0.        ],\n",
       "       [ -50000.        ],\n",
       "       [      0.        ],\n",
       "       [ -50000.        ],\n",
       "       [-200000.        ],\n",
       "       [  -7015.59020045],\n",
       "       [ 200000.        ],\n",
       "       [ 107015.59020045]])"
      ]
     },
     "execution_count": 26,
     "metadata": {},
     "output_type": "execute_result"
    }
   ],
   "source": [
    "P = KK @ U\n",
    "P"
   ]
  },
  {
   "cell_type": "code",
   "execution_count": 6,
   "id": "2b0f7414-05c5-4695-ad4f-911a2d59d24f",
   "metadata": {},
   "outputs": [],
   "source": [
    "def triangle2d3node_stress(E, NU, xi, yi, xj, yj, xm, ym, u, ID):\n",
    "    \"\"\"\n",
    "    该函数计算单元的应力。\n",
    "\n",
    "    参数:\n",
    "    E (float): 弹性模量\n",
    "    NU (float): 泊松比\n",
    "    xi, yi, xj, yj, xm, ym (float): 节点i、j、m的坐标\n",
    "    u (numpy.ndarray): 单元的位移列阵 (6x1)\n",
    "    ID (int): 平面问题性质指标参数 (1为平面应力，2为平面应变)\n",
    "\n",
    "    返回:\n",
    "    stress (numpy.ndarray): 单元的应力 (3x1)，包含Sx, Sy, Sxy\n",
    "    \"\"\"\n",
    "\n",
    "    import numpy as np\n",
    "\n",
    "    # 计算三角形面积\n",
    "    A = area(x1, y1, x2, y2, x3, y3)\n",
    "\n",
    "    # 计算应变-位移矩阵B的各分量\n",
    "    betai = yj - ym\n",
    "    betaj = ym - yi\n",
    "    betam = yi - yj\n",
    "    gammai = xm - xj\n",
    "    gammaj = xi - xm\n",
    "    gammam = xj - xi\n",
    "\n",
    "    B = np.array(\n",
    "        [\n",
    "            [betai, 0, betaj, 0, betam, 0],\n",
    "            [0, gammai, 0, gammaj, 0, gammam],\n",
    "            [gammai, betai, gammaj, betaj, gammam, betam],\n",
    "        ]\n",
    "    ) / (2 * A)\n",
    "\n",
    "    # 根据问题类型计算材料属性矩阵D\n",
    "    if ID == 1:\n",
    "        D = (E / (1 - NU**2)) * np.array([[1, NU, 0], [NU, 1, 0], [0, 0, (1 - NU) / 2]])\n",
    "    elif ID == 2:\n",
    "        D = (E / ((1 + NU) * (1 - 2 * NU))) * np.array(\n",
    "            [[1 - NU, NU, 0], [NU, 1 - NU, 0], [0, 0, (1 - 2 * NU) / 2]]\n",
    "        )\n",
    "\n",
    "    # 计算应力\n",
    "    stress = np.dot(D, np.dot(B, u))\n",
    "\n",
    "    return stress"
   ]
  },
  {
   "cell_type": "code",
   "execution_count": 7,
   "id": "26fbb58f-076a-47bd-85e5-39215bd6bed6",
   "metadata": {},
   "outputs": [],
   "source": [
    "import meshio"
   ]
  },
  {
   "cell_type": "code",
   "execution_count": 88,
   "id": "df216e85-e563-4ed5-9665-848018f3804a",
   "metadata": {},
   "outputs": [
    {
     "name": "stdout",
     "output_type": "stream",
     "text": [
      "\n",
      "Points:\n",
      "[[0.  0.  0. ]\n",
      " [2.  0.  0. ]\n",
      " [2.  1.  0. ]\n",
      " [0.  1.  0. ]\n",
      " [1.  0.5 0. ]]\n",
      "Cells:\n",
      "Cell type: vertex\n",
      "[[0]]\n",
      "Cell type: vertex\n",
      "[[1]]\n",
      "Cell type: vertex\n",
      "[[2]]\n",
      "Cell type: vertex\n",
      "[[3]]\n",
      "Cell type: line\n",
      "[[0 1]]\n",
      "Cell type: line\n",
      "[[1 2]]\n",
      "Cell type: line\n",
      "[[2 3]]\n",
      "Cell type: line\n",
      "[[3 0]]\n",
      "Cell type: triangle\n",
      "[[0 4 3]\n",
      " [2 4 1]\n",
      " [1 4 0]\n",
      " [3 4 2]]\n"
     ]
    }
   ],
   "source": [
    "# 读取 .msh 文件\n",
    "file_path = \"/mnt/c/Users/Yuxua/Desktop/TODO/simplex2y1.msh\"\n",
    "mesh = meshio.read(file_path)\n",
    "\n",
    "# 打印节点\n",
    "print(\"Points:\")\n",
    "print(mesh.points)\n",
    "\n",
    "# 打印单元\n",
    "print(\"Cells:\")\n",
    "for cell_block in mesh.cells:\n",
    "    cell_type = cell_block.type\n",
    "    cell_data = cell_block.data\n",
    "    print(f\"Cell type: {cell_type}\")\n",
    "    print(cell_data)"
   ]
  },
  {
   "cell_type": "code",
   "execution_count": 89,
   "id": "4e42d3da-d61d-4972-9a8f-e43cec0fd3e4",
   "metadata": {},
   "outputs": [
    {
     "data": {
      "text/plain": [
       "array([[0. , 0. , 0. ],\n",
       "       [2. , 0. , 0. ],\n",
       "       [2. , 1. , 0. ],\n",
       "       [0. , 1. , 0. ],\n",
       "       [1. , 0.5, 0. ]])"
      ]
     },
     "execution_count": 89,
     "metadata": {},
     "output_type": "execute_result"
    }
   ],
   "source": [
    "mesh.points"
   ]
  },
  {
   "cell_type": "code",
   "execution_count": 90,
   "id": "345092fa-bc3e-401b-88d5-ca90b57154fd",
   "metadata": {},
   "outputs": [
    {
     "data": {
      "text/plain": [
       "array([[0, 4, 3],\n",
       "       [2, 4, 1],\n",
       "       [1, 4, 0],\n",
       "       [3, 4, 2]])"
      ]
     },
     "execution_count": 90,
     "metadata": {},
     "output_type": "execute_result"
    }
   ],
   "source": [
    "mesh.cells_dict[\"triangle\"]"
   ]
  },
  {
   "cell_type": "code",
   "execution_count": 91,
   "id": "d209fecd-0756-4494-8833-bbd2970a153a",
   "metadata": {},
   "outputs": [
    {
     "name": "stdout",
     "output_type": "stream",
     "text": [
      "[[ 328125.  187500. -281250. -187500.  -46875.       0.]\n",
      " [ 187500.  609375. -187500.  -93750.      -0. -515625.]\n",
      " [-281250. -187500.  562500.       0. -281250.  187500.]\n",
      " [-187500.  -93750.       0.  187500.  187500.  -93750.]\n",
      " [ -46875.      -0. -281250.  187500.  328125. -187500.]\n",
      " [      0. -515625.  187500.  -93750. -187500.  609375.]]\n",
      "[[ 328125.  187500. -281250. -187500.  -46875.       0.]\n",
      " [ 187500.  609375. -187500.  -93750.      -0. -515625.]\n",
      " [-281250. -187500.  562500.       0. -281250.  187500.]\n",
      " [-187500.  -93750.       0.  187500.  187500.  -93750.]\n",
      " [ -46875.      -0. -281250.  187500.  328125. -187500.]\n",
      " [      0. -515625.  187500.  -93750. -187500.  609375.]]\n",
      "[[  328125.  -187500.  -375000.   187500.    46875.        0.]\n",
      " [ -187500.   609375.   187500. -1125000.       -0.   515625.]\n",
      " [ -375000.   187500.   750000.        0.  -375000.  -187500.]\n",
      " [  187500. -1125000.        0.  2250000.  -187500. -1125000.]\n",
      " [   46875.       -0.  -375000.  -187500.   328125.   187500.]\n",
      " [       0.   515625.  -187500. -1125000.   187500.   609375.]]\n",
      "[[  328125.  -187500.  -375000.   187500.    46875.        0.]\n",
      " [ -187500.   609375.   187500. -1125000.       -0.   515625.]\n",
      " [ -375000.   187500.   750000.        0.  -375000.  -187500.]\n",
      " [  187500. -1125000.        0.  2250000.  -187500. -1125000.]\n",
      " [   46875.       -0.  -375000.  -187500.   328125.   187500.]\n",
      " [       0.   515625.  -187500. -1125000.   187500.   609375.]]\n"
     ]
    }
   ],
   "source": [
    "KK = np.zeros([10, 10])\n",
    "for ncell in range(4):\n",
    "    nodes = mesh.cells_dict[\"triangle\"][ncell]\n",
    "    loca = mesh.points[nodes][:, 0:2]\n",
    "    locaf = loca.flatten()\n",
    "    ki = triangle2d3node_stiffness(\n",
    "        E, NU, t, locaf[0], locaf[1], locaf[2], locaf[3], locaf[4], locaf[5], ID\n",
    "    )\n",
    "    with np.printoptions(linewidth=200, suppress=True):\n",
    "        print(ki)\n",
    "    KK = triangle2d3node_assembly(KK, ki, nodes[0] + 1, nodes[1] + 1, nodes[2] + 1)"
   ]
  },
  {
   "cell_type": "code",
   "execution_count": 92,
   "id": "d59d2237-db32-4454-8423-2a21a311b728",
   "metadata": {},
   "outputs": [
    {
     "name": "stdout",
     "output_type": "stream",
     "text": [
      "[[  656250.   375000.    46875.       -0.        0.        0.   -46875.        0.  -656250.  -375000.]\n",
      " [  375000.  1218750.        0.   515625.        0.        0.       -0.  -515625.  -375000. -1218750.]\n",
      " [   46875.        0.   656250.  -375000.   -46875.       -0.        0.        0.  -656250.   375000.]\n",
      " [      -0.   515625.  -375000.  1218750.        0.  -515625.        0.        0.   375000. -1218750.]\n",
      " [       0.        0.   -46875.        0.   656250.   375000.    46875.       -0.  -656250.  -375000.]\n",
      " [       0.        0.       -0.  -515625.   375000.  1218750.        0.   515625.  -375000. -1218750.]\n",
      " [  -46875.       -0.        0.        0.    46875.        0.   656250.  -375000.  -656250.   375000.]\n",
      " [       0.  -515625.        0.        0.       -0.   515625.  -375000.  1218750.   375000. -1218750.]\n",
      " [ -656250.  -375000.  -656250.   375000.  -656250.  -375000.  -656250.   375000.  2625000.        0.]\n",
      " [ -375000. -1218750.   375000. -1218750.  -375000. -1218750.   375000. -1218750.        0.  4875000.]]\n"
     ]
    }
   ],
   "source": [
    "with np.printoptions(linewidth=200, suppress=True):\n",
    "    print(KK)"
   ]
  },
  {
   "cell_type": "code",
   "execution_count": 93,
   "id": "4a4f79ac-b34b-41f0-8559-14ba9bb54a50",
   "metadata": {},
   "outputs": [
    {
     "name": "stdout",
     "output_type": "stream",
     "text": [
      "[[ 6.56250000e+05 -3.75000000e+05 -4.68750000e+04 -1.16415322e-11]\n",
      " [-3.75000000e+05  1.21875000e+06  1.16415322e-11 -5.15625000e+05]\n",
      " [-4.68750000e+04  1.16415322e-11  6.56250000e+05  3.75000000e+05]\n",
      " [-1.16415322e-11 -5.15625000e+05  3.75000000e+05  1.21875000e+06]]\n"
     ]
    },
    {
     "data": {
      "text/plain": [
       "array([[-0.05300207],\n",
       "       [-0.09937888],\n",
       "       [ 0.05300207],\n",
       "       [-0.09937888]])"
      ]
     },
     "execution_count": 93,
     "metadata": {},
     "output_type": "execute_result"
    }
   ],
   "source": [
    "k23 = KK[2:6, 2:6]\n",
    "print(k23)\n",
    "p = np.array([[0, -50000, 0, -50000]])\n",
    "u = np.linalg.solve(k23, p.T)\n",
    "u"
   ]
  },
  {
   "cell_type": "code",
   "execution_count": 101,
   "id": "179e72c6-c86a-437b-ac54-13b004c556d3",
   "metadata": {},
   "outputs": [
    {
     "data": {
      "text/plain": [
       "array([[ 0.        ],\n",
       "       [ 0.        ],\n",
       "       [-0.05300207],\n",
       "       [-0.09937888],\n",
       "       [ 0.05300207],\n",
       "       [-0.09937888],\n",
       "       [ 0.        ],\n",
       "       [ 0.        ],\n",
       "       [ 0.        ],\n",
       "       [ 0.        ]])"
      ]
     },
     "execution_count": 101,
     "metadata": {},
     "output_type": "execute_result"
    }
   ],
   "source": [
    "U = np.array(\n",
    "    [\n",
    "        [0],\n",
    "        [0],\n",
    "        [-0.05300207],\n",
    "        [-0.09937888],\n",
    "        [0.05300207],\n",
    "        [-0.09937888],\n",
    "        [0],\n",
    "        [0],\n",
    "        [0],\n",
    "        [0],\n",
    "    ]\n",
    ")\n",
    "U"
   ]
  },
  {
   "cell_type": "code",
   "execution_count": 102,
   "id": "9ad749ac-5186-41eb-ab86-199b7af1ef3a",
   "metadata": {},
   "outputs": [
    {
     "data": {
      "text/plain": [
       "array([[-2.48447203e+03],\n",
       "       [-5.12422350e+04],\n",
       "       [-4.68749997e-04],\n",
       "       [-4.99999988e+04],\n",
       "       [ 4.68749997e-04],\n",
       "       [-4.99999988e+04],\n",
       "       [ 2.48447203e+03],\n",
       "       [-5.12422350e+04],\n",
       "       [ 0.00000000e+00],\n",
       "       [ 2.02484468e+05]])"
      ]
     },
     "execution_count": 102,
     "metadata": {},
     "output_type": "execute_result"
    }
   ],
   "source": [
    "P = KK @ U\n",
    "P"
   ]
  },
  {
   "cell_type": "markdown",
   "id": "3a92fb7b-a1be-4e1c-bbe9-eabd396502d8",
   "metadata": {},
   "source": [
    "### 复杂网络"
   ]
  },
  {
   "cell_type": "code",
   "execution_count": null,
   "id": "10c3bdec-6db9-4b9c-aea7-aa24080d5436",
   "metadata": {},
   "outputs": [],
   "source": [
    "file_path = \"/mnt/c/Users/Yuxua/Desktop/TODO/compx2y1.msh\"\n",
    "mesh = meshio.read(file_path)\n",
    "# mesh.points.shape\n",
    "# mesh.cells_dict[\"triangle\"].shape"
   ]
  },
  {
   "cell_type": "code",
   "execution_count": 15,
   "id": "f8f32b28-ec31-447b-8ed5-65b978809be2",
   "metadata": {},
   "outputs": [
    {
     "data": {
      "text/plain": [
       "array([[-0.02686892, -0.06156042,  0.02591514, -0.06191906, -0.00487682,\n",
       "        -0.04422332,  0.00378375, -0.03490036, -0.00385267, -0.03504489,\n",
       "         0.00563597, -0.04480833]])"
      ]
     },
     "execution_count": 15,
     "metadata": {},
     "output_type": "execute_result"
    }
   ],
   "source": [
    "KK = np.zeros([mesh.points.shape[0]*2, mesh.points.shape[0]*2])\n",
    "for ncell in range(mesh.cells_dict[\"triangle\"].shape[0]):\n",
    "    nodes = mesh.cells_dict['triangle'][ncell]\n",
    "    loca = mesh.points[nodes][:, 0:2]\n",
    "    locaf = loca.flatten()\n",
    "    ki = triangle2d3node_stiffness(E, NU, t, locaf[0], locaf[1], locaf[2], locaf[3], locaf[4], locaf[5], ID)\n",
    "    KK = triangle2d3node_assembly(KK, ki, nodes[0]+1, nodes[1]+1, nodes[2]+1)\n",
    "\n",
    "# 边界条件设置\n",
    "rows_to_select = [2,3,4,5,24,25,26,27,28,29,30,31]\n",
    "cols_to_select = [2,3,4,5,24,25,26,27,28,29,30,31]\n",
    "\n",
    "k23 = KK[np.ix_(rows_to_select, cols_to_select)]\n",
    "\n",
    "p = np.array([[0, -100000/6, 0, -100000/6, 0, -100000/6, 0, -100000/6, 0, -100000/6, 0, -100000/6]])\n",
    "u = np.linalg.solve(k23, p.T)\n",
    "u.T"
   ]
  },
  {
   "cell_type": "markdown",
   "id": "cfe62023-a44c-4aa5-8ac1-1ed103cfeda9",
   "metadata": {},
   "source": [
    "## 平板圆孔"
   ]
  },
  {
   "cell_type": "code",
   "execution_count": 9,
   "id": "540bcf76-052b-4aea-b55e-a743eeed2ee2",
   "metadata": {},
   "outputs": [
    {
     "name": "stdout",
     "output_type": "stream",
     "text": [
      "\n",
      "Points:\n",
      "[[0.         0.         0.        ]\n",
      " [1.         0.         0.        ]\n",
      " [0.         1.         0.        ]\n",
      " ...\n",
      " [0.91436174 0.96285912 0.        ]\n",
      " [0.69817391 0.47405362 0.        ]\n",
      " [0.58480084 0.30063859 0.        ]]\n",
      "Cells:\n",
      "Cell type: vertex\n",
      "[[0]]\n",
      "Cell type: vertex\n",
      "[[1]]\n",
      "Cell type: vertex\n",
      "[[2]]\n",
      "Cell type: vertex\n",
      "[[3]]\n",
      "Cell type: vertex\n",
      "[[4]]\n",
      "Cell type: line\n",
      "[[ 4  5]\n",
      " [ 5  6]\n",
      " [ 6  7]\n",
      " [ 7  8]\n",
      " [ 8  9]\n",
      " [ 9 10]\n",
      " [10 11]\n",
      " [11 12]\n",
      " [12 13]\n",
      " [13 14]\n",
      " [14  4]]\n",
      "Cell type: line\n",
      "[[ 0 15]\n",
      " [15 16]\n",
      " [16 17]\n",
      " [17 18]\n",
      " [18 19]\n",
      " [19 20]\n",
      " [20 21]\n",
      " [21 22]\n",
      " [22 23]\n",
      " [23 24]\n",
      " [24 25]\n",
      " [25 26]\n",
      " [26 27]\n",
      " [27 28]\n",
      " [28 29]\n",
      " [29 30]\n",
      " [30  1]]\n",
      "Cell type: line\n",
      "[[ 2 31]\n",
      " [31 32]\n",
      " [32 33]\n",
      " [33 34]\n",
      " [34 35]\n",
      " [35 36]\n",
      " [36 37]\n",
      " [37 38]\n",
      " [38 39]\n",
      " [39 40]\n",
      " [40 41]\n",
      " [41 42]\n",
      " [42 43]\n",
      " [43 44]\n",
      " [44 45]\n",
      " [45 46]\n",
      " [46  0]]\n",
      "Cell type: line\n",
      "[[ 1 47]\n",
      " [47 48]\n",
      " [48 49]\n",
      " [49 50]\n",
      " [50 51]\n",
      " [51 52]\n",
      " [52 53]\n",
      " [53 54]\n",
      " [54 55]\n",
      " [55 56]\n",
      " [56 57]\n",
      " [57 58]\n",
      " [58 59]\n",
      " [59 60]\n",
      " [60 61]\n",
      " [61 62]\n",
      " [62  3]]\n",
      "Cell type: line\n",
      "[[ 3 63]\n",
      " [63 64]\n",
      " [64 65]\n",
      " [65 66]\n",
      " [66 67]\n",
      " [67 68]\n",
      " [68 69]\n",
      " [69 70]\n",
      " [70 71]\n",
      " [71 72]\n",
      " [72 73]\n",
      " [73 74]\n",
      " [74 75]\n",
      " [75 76]\n",
      " [76 77]\n",
      " [77 78]\n",
      " [78  2]]\n",
      "Cell type: triangle\n",
      "[[160 345  82]\n",
      " [ 81 346 159]\n",
      " [108 307 161]\n",
      " ...\n",
      " [375 420 104]\n",
      " [374 411 155]\n",
      " [165 420 375]]\n"
     ]
    }
   ],
   "source": [
    "file_path = \"/mnt/c/Users/Yuxua/Desktop/TODO/hole.msh\"\n",
    "mesh = meshio.read(file_path)\n",
    "\n",
    "# 打印节点\n",
    "print(\"Points:\")\n",
    "print(mesh.points)\n",
    "\n",
    "# 打印单元\n",
    "print(\"Cells:\")\n",
    "for cell_block in mesh.cells:\n",
    "    cell_type = cell_block.type\n",
    "    cell_data = cell_block.data\n",
    "    print(f\"Cell type: {cell_type}\")\n",
    "    print(cell_data)"
   ]
  },
  {
   "cell_type": "code",
   "execution_count": 10,
   "id": "351b8059-be23-4347-b8cd-e53a2b6c1f5c",
   "metadata": {},
   "outputs": [
    {
     "data": {
      "text/plain": [
       "(421, 3)"
      ]
     },
     "execution_count": 10,
     "metadata": {},
     "output_type": "execute_result"
    }
   ],
   "source": [
    "mesh.points.shape"
   ]
  },
  {
   "cell_type": "code",
   "execution_count": 11,
   "id": "3dfa7c62-20ab-4412-af49-ef043165031d",
   "metadata": {},
   "outputs": [
    {
     "data": {
      "text/plain": [
       "(763, 3)"
      ]
     },
     "execution_count": 11,
     "metadata": {},
     "output_type": "execute_result"
    }
   ],
   "source": [
    "mesh.cells_dict[\"triangle\"].shape"
   ]
  },
  {
   "cell_type": "code",
   "execution_count": null,
   "id": "0095c673-6c23-45c1-bd9f-2ec04b887042",
   "metadata": {},
   "outputs": [],
   "source": [
    "KK = np.zeros([mesh.points.shape[0] * 2, mesh.points.shape[0] * 2])\n",
    "for ncell in range(mesh.cells_dict[\"triangle\"].shape[0]):\n",
    "    nodes = mesh.cells_dict[\"triangle\"][ncell]\n",
    "    loca = mesh.points[nodes][:, 0:2]\n",
    "    locaf = loca.flatten()\n",
    "    ki = triangle2d3node_stiffness(\n",
    "        E, NU, t, locaf[0], locaf[1], locaf[2], locaf[3], locaf[4], locaf[5], ID\n",
    "    )\n",
    "    KK = triangle2d3node_assembly(KK, ki, nodes[0] + 1, nodes[1] + 1, nodes[2] + 1)\n",
    "\n",
    "# 定义要选取的行和列的索引\n",
    "rows_to_select = [2, 3, 4, 5, 24, 25, 26, 27, 28, 29, 30, 31]\n",
    "cols_to_select = [2, 3, 4, 5, 24, 25, 26, 27, 28, 29, 30, 31]\n",
    "\n",
    "# 选取特定行和列的数据\n",
    "k23 = KK[np.ix_(rows_to_select, cols_to_select)]\n",
    "print(k23)\n",
    "p = np.array(\n",
    "    [\n",
    "        [\n",
    "            0,\n",
    "            -100000 / 6,\n",
    "            0,\n",
    "            -100000 / 6,\n",
    "            0,\n",
    "            -100000 / 6,\n",
    "            0,\n",
    "            -100000 / 6,\n",
    "            0,\n",
    "            -100000 / 6,\n",
    "            0,\n",
    "            -100000 / 6,\n",
    "        ]\n",
    "    ]\n",
    ")\n",
    "u = np.linalg.solve(k23, p.T)\n",
    "u"
   ]
  }
 ],
 "metadata": {
  "kernelspec": {
   "display_name": "Python 3 (ipykernel)",
   "language": "python",
   "name": "python3"
  },
  "language_info": {
   "codemirror_mode": {
    "name": "ipython",
    "version": 3
   },
   "file_extension": ".py",
   "mimetype": "text/x-python",
   "name": "python",
   "nbconvert_exporter": "python",
   "pygments_lexer": "ipython3",
   "version": "3.10.14"
  }
 },
 "nbformat": 4,
 "nbformat_minor": 5
}
