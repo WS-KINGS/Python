{
 "cells": [
  {
   "cell_type": "code",
   "execution_count": 2,
   "metadata": {},
   "outputs": [],
   "source": [
    "import numpy as np"
   ]
  },
  {
   "cell_type": "markdown",
   "metadata": {},
   "source": [
    "矩阵条件数计算\n",
    "\n",
    "- i：非奇异n阶方阵\n",
    "- f：$cond(A)_p=\\Vert A \\Vert_p \\Vert A^{-1} \\Vert_p$\n",
    "- o：cond(A)"
   ]
  },
  {
   "cell_type": "markdown",
   "metadata": {},
   "source": [
    "np.linalg.cond默认会使用2-范数来计算条件数。对于其他类型的范数，只需将p参数设置为相应的值即可。p可以取以下值之一：\n",
    "\n",
    "- None 或 '2'：使用2-范数（默认）\n",
    "- 'fro'：Frobenius 范数\n",
    "- inf：无穷范数\n",
    "- 1：1-范数"
   ]
  },
  {
   "cell_type": "code",
   "execution_count": 3,
   "metadata": {},
   "outputs": [
    {
     "data": {
      "text/plain": [
       "np.float64(8.250000000000002)"
      ]
     },
     "execution_count": 3,
     "metadata": {},
     "output_type": "execute_result"
    }
   ],
   "source": [
    "A = np.array([[2, 2], [7, 3]])\n",
    "np.linalg.cond(A, 'fro')"
   ]
  },
  {
   "cell_type": "code",
   "execution_count": 4,
   "metadata": {},
   "outputs": [],
   "source": [
    "from sympy import Matrix, symbols\n",
    "\n",
    "# 定义符号变量\n",
    "a = symbols('a')\n",
    "\n",
    "# 使用符号变量创建矩阵\n",
    "A = Matrix([[1, a], [2*a, 1]])"
   ]
  },
  {
   "cell_type": "code",
   "execution_count": 5,
   "metadata": {},
   "outputs": [],
   "source": [
    "D = Matrix([[1, 0],[0, 1]])\n",
    "L = Matrix([[0, 0],[-2*a, 0]])\n",
    "U = Matrix([[0, -a],[0, 0]])"
   ]
  },
  {
   "cell_type": "code",
   "execution_count": 6,
   "metadata": {},
   "outputs": [
    {
     "data": {
      "text/latex": [
       "$\\displaystyle \\left[\\begin{matrix}0 & - a\\\\- 2 a & 0\\end{matrix}\\right]$"
      ],
      "text/plain": [
       "Matrix([\n",
       "[   0, -a],\n",
       "[-2*a,  0]])"
      ]
     },
     "execution_count": 6,
     "metadata": {},
     "output_type": "execute_result"
    }
   ],
   "source": [
    "Bj = D.inv() * (L + U)\n",
    "Bj"
   ]
  },
  {
   "cell_type": "code",
   "execution_count": 7,
   "metadata": {},
   "outputs": [
    {
     "data": {
      "text/plain": [
       "[(-sqrt(2)*a,\n",
       "  1,\n",
       "  [Matrix([\n",
       "   [sqrt(2)/2],\n",
       "   [        1]])]),\n",
       " (sqrt(2)*a,\n",
       "  1,\n",
       "  [Matrix([\n",
       "   [-sqrt(2)/2],\n",
       "   [         1]])])]"
      ]
     },
     "execution_count": 7,
     "metadata": {},
     "output_type": "execute_result"
    }
   ],
   "source": [
    "Bj.eigenvects()"
   ]
  },
  {
   "cell_type": "code",
   "execution_count": 8,
   "metadata": {},
   "outputs": [],
   "source": [
    "BG = (D - L).inv() * U"
   ]
  },
  {
   "cell_type": "code",
   "execution_count": 9,
   "metadata": {},
   "outputs": [
    {
     "data": {
      "text/plain": [
       "{2*a**2: 1, 0: 1}"
      ]
     },
     "execution_count": 9,
     "metadata": {},
     "output_type": "execute_result"
    }
   ],
   "source": [
    "BG.eigenvals()"
   ]
  }
 ],
 "metadata": {
  "kernelspec": {
   "display_name": ".venv",
   "language": "python",
   "name": "python3"
  },
  "language_info": {
   "codemirror_mode": {
    "name": "ipython",
    "version": 3
   },
   "file_extension": ".py",
   "mimetype": "text/x-python",
   "name": "python",
   "nbconvert_exporter": "python",
   "pygments_lexer": "ipython3",
   "version": "3.12.7"
  }
 },
 "nbformat": 4,
 "nbformat_minor": 2
}
